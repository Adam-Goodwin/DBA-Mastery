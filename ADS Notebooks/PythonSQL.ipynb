{
    "metadata": {
        "kernelspec": {
            "name": "python3",
            "display_name": "Python 3"
        },
        "language_info": {
            "name": "python",
            "version": "3.6.6",
            "mimetype": "text/x-python",
            "codemirror_mode": {
                "name": "ipython",
                "version": 3
            },
            "pygments_lexer": "ipython3",
            "nbconvert_exporter": "python",
            "file_extension": ".py"
        }
    },
    "nbformat_minor": 2,
    "nbformat": 4,
    "cells": [
        {
            "cell_type": "markdown",
            "source": "# [DBA Mastery](http://google.com)\n**Just another witchcraft and wizardry site and DBA tips …**\n\n# Upgrading a SQL Server docker container using Python\n- 1- Checking SQL Server images in MCR **(optional)**\n- 2- Pull images **(optional)**\n- 3- Check images **(optional)**\n- 4- Create CU13 container\n- 5- Check container status\n- 6- Connect to CU13 and get version\n- 7- Restore WWI database from backup\n- 8- Stop and upgrade CU13 to CU14\n- 9- Check SQL Server errorlog\n- 10- Connect to CU13 and get version\n\nThis notebook uses the Docker Python API to manage a SQL Server container created in Docker.",
            "metadata": {}
        },
        {
            "cell_type": "markdown",
            "source": "# 1- Checking SQL Server images in MCR (Python)",
            "metadata": {}
        },
        {
            "cell_type": "code",
            "source": "\n# Importing HTTP requests library\nimport requests\n\n# Listing available images at MCR\nmcr_images = requests.get('https://mcr.microsoft.com/v2/mssql/server/tags/list/')\nmcr_images.json()",
            "metadata": {},
            "outputs": [
                {
                    "output_type": "execute_result",
                    "execution_count": 1,
                    "data": {
                        "text/plain": "{'name': 'mssql/server',\n 'tags': ['2017-CU1-ubuntu',\n  '2017-CU10',\n  '2017-CU10-ubuntu',\n  '2017-CU11',\n  '2017-CU11-ubuntu',\n  '2017-CU12',\n  '2017-CU12-ubuntu',\n  '2017-CU13',\n  '2017-CU13-ubuntu',\n  '2017-CU14',\n  '2017-CU14-ubuntu',\n  '2017-CU2-ubuntu',\n  '2017-CU3-ubuntu',\n  '2017-CU4-ubuntu',\n  '2017-CU5-ubuntu',\n  '2017-CU6-ubuntu',\n  '2017-CU7-ubuntu',\n  '2017-CU8-ubuntu',\n  '2017-CU9-ubuntu',\n  '2017-GA-ubuntu',\n  '2017-GDR-ubuntu',\n  '2017-latest',\n  '2017-latest-ubuntu',\n  '2018-CTP20',\n  '2018-CTP20-ubuntu',\n  '2019-CTP2.0',\n  '2019-CTP2.0-ubuntu',\n  '2019-CTP2.1',\n  '2019-CTP2.1-ubuntu',\n  '2019-CTP2.2',\n  '2019-CTP2.2-ubuntu',\n  '2019-CTP2.3',\n  '2019-CTP2.3-ubuntu',\n  '2019-CTP2.4',\n  '2019-CTP2.4-ubuntu',\n  '2019-CTP2.5',\n  '2019-CTP2.5-ubuntu',\n  '2019-latest',\n  'latest',\n  'latest-ubuntu',\n  'vNext-CTP2.0-ubuntu']}"
                    },
                    "metadata": {}
                }
            ],
            "execution_count": 1
        },
        {
            "cell_type": "markdown",
            "source": "# 2- Pull images (Python)",
            "metadata": {}
        },
        {
            "cell_type": "code",
            "source": "# Importing docker library\nimport docker\nimport requests\nclient = docker.from_env()\nclient.images.pull('mcr.microsoft.com/mssql/server:2017-CU13-ubuntu')\nprint ('SQL Server 2017 \\ Ubuntu CU13 has been pulled')\nclient.images.pull('mcr.microsoft.com/mssql/server:2017-CU14-ubuntu')\nprint ('SQL Server 2017 \\ Ubuntu CU14 has been pulled')",
            "metadata": {},
            "outputs": [
                {
                    "output_type": "stream",
                    "name": "stdout",
                    "text": "SQL Server 2017 \\ Ubuntu CU13 has been pulled\n"
                },
                {
                    "output_type": "stream",
                    "name": "stdout",
                    "text": "SQL Server 2017 \\ Ubuntu CU14 has been pulled\n"
                }
            ],
            "execution_count": 11
        },
        {
            "cell_type": "markdown",
            "source": "# 3- Check images (Python)",
            "metadata": {}
        },
        {
            "cell_type": "code",
            "source": "# Listing local images (Docker cache)\nclient.images.list()\n",
            "metadata": {},
            "outputs": [
                {
                    "output_type": "execute_result",
                    "execution_count": 7,
                    "data": {
                        "text/plain": "[<Image: 'mcr.microsoft.com/mssql/server:2017-CU14-ubuntu'>,\n <Image: 'mcr.microsoft.com/mssql/server:2017-CU13-ubuntu'>,\n <Image: 'microsoft/mssql-server-linux:2017-CU12', 'mcr.microsoft.com/mssql/server:2017-CU12-ubuntu'>,\n <Image: 'mcr.microsoft.com/mssql/server:2017-CU11'>,\n <Image: 'microsoft/mssql-server-linux:2017-CU11'>]"
                    },
                    "metadata": {}
                }
            ],
            "execution_count": 7
        },
        {
            "cell_type": "markdown",
            "source": "# 4- Create CU13 container (Python)",
            "metadata": {}
        },
        {
            "cell_type": "code",
            "source": "# Checking if existing \\ Cleaning up\ntry:\n        container = client.containers.get('PythonSQL_CU13')\n        container.stop()\n        container.remove()\n        print ('The existing PythonSQL_CU13 container was removed ...')\nexcept:\n        print (\"The PythonSQL_CU13 container does not exists ...\")\n\n# Creating Python_CU14 container\nclient.containers.run(\n        'mcr.microsoft.com/mssql/server:2017-CU13-ubuntu',\n        detach=True,\n        name=\"PythonSQL_CU13\",\n        hostname=\"PythonSQL_CU13\",\n        environment={\"ACCEPT_EULA\":\"Y\",\"MSSQL_SA_PASSWORD\":\"P1th0nR0ck$!\"},\n        volumes= \n        {'vlm_VersionUpgrade': {'bind': '/var/opt/mssql', 'mode': 'rw'},\n        '/Users/carlos/Documents/Containers': {'bind': '/Shared', 'mode': 'rw'}},\n        ports={'1433/tcp': 1401}\n)\nprint (\"The PythonSQL_CU13 container was succesfully created\")",
            "metadata": {},
            "outputs": [
                {
                    "output_type": "stream",
                    "name": "stdout",
                    "text": "phython_cu13 was removed\n"
                },
                {
                    "output_type": "stream",
                    "name": "stdout",
                    "text": "The container succesfully created\n"
                }
            ],
            "execution_count": 5
        },
        {
            "cell_type": "markdown",
            "source": "# 5- Check container status (Python)",
            "metadata": {}
        },
        {
            "cell_type": "code",
            "source": "# Setting context to my container\ncontainer = client.containers.get('PythonSQL_CU13')\n\n# Checking status of PythonSQL container\nprint ('My container: ' + container.name + ' is in ' + container.status + ' state.')\n\n# Checking status of all containers\nclient.containers.list(all=True, filters={\"status\":\"running\"})",
            "metadata": {},
            "outputs": [
                {
                    "output_type": "stream",
                    "name": "stdout",
                    "text": "My container: python_cu13 is in running state.\n"
                }
            ],
            "execution_count": 3
        },
        {
            "cell_type": "markdown",
            "source": "# 6- Connect to CU13 and get version (SQL)",
            "metadata": {}
        },
        {
            "cell_type": "code",
            "source": "-- Checking SQL Server instance information\n-- 14.0.3048.4 = CU13\n-- 14.0.3076.1 = CU14\nSELECT\n    SERVERPROPERTY('ServerName') AS [Instance Name],\n    SERVERPROPERTY('ProductVersion') AS [Product Version],\n    RIGHT(@@version, LEN(@@version)- 3 -charindex (' ON ', @@VERSION)) [OS Version],\n    SERVERPROPERTY ('Edition') AS [Edition]\nFROM sys.dm_os_sys_info;",
            "metadata": {},
            "outputs": [],
            "execution_count": 1
        },
        {
            "cell_type": "markdown",
            "source": "# 7- Restore WWI database from backup (SQL)",
            "metadata": {}
        },
        {
            "cell_type": "code",
            "source": "-- Checking existing databases\nSELECT name FROM sys.databases;\n\n-- Restore WWI backup\nRESTORE DATABASE WWI FROM DISK = '/Shared/wwi.bak' WITH\nMOVE 'WWI_Primary' TO '/var/opt/mssql/data/WideWorldImporters.mdf',\nMOVE 'WWI_UserData' TO '/var/opt/mssql/data/WideWorldImporters_userdata.ndf',\nMOVE 'WWI_Log' TO '/var/opt/mssql/data/WideWorldImporters.ldf', \nMOVE 'WWI_InMemory_Data_1' TO '/var/opt/mssql/data/WideWorldImporters_InMemory_Data_1';\n\n-- Looking for WWI database\nSELECT name FROM sys.databases;\n\n-- Checking SQL Server version --14.0.3048.4 = CU13\nSELECT\n    SERVERPROPERTY('ServerName') AS [Instance Name],\n    SERVERPROPERTY('ProductVersion') AS [Product Version],\n    RIGHT(@@version, LEN(@@version)- 3 -charindex (' ON ', @@VERSION)) [OS Version],\n    SERVERPROPERTY ('Edition') AS [Edition]\nFROM sys.dm_os_sys_info;",
            "metadata": {},
            "outputs": [],
            "execution_count": 0
        },
        {
            "cell_type": "markdown",
            "source": "# 8- Stop and upgrade CU13 to CU14 (Python)",
            "metadata": {}
        },
        {
            "cell_type": "code",
            "source": "# Setting context to my container\ncontainer = client.containers.get('PythonSQL_CU13')\n\n# Stopping PythonSQL\ncontainer.stop()\n\n# Creating Python_CU14 container (upgrade)\nclient.containers.run(\n        'mcr.microsoft.com/mssql/server:2017-CU14-ubuntu',\n        detach=True,\n        name=\"PythonSQL_CU14\",\n        hostname=\"PythonSQL_CU14\",\n        environment={\"ACCEPT_EULA\":\"Y\",\"MSSQL_SA_PASSWORD\":\"P1th0nR0ck$!\"},\n        volumes= \n        {'vlm_VersionUpgrade': {'bind': '/var/opt/mssql', 'mode': 'rw'},\n        '/Users/carlos/Documents/Containers': {'bind': '/Shared', 'mode': 'rw'}},\n        ports={'1433/tcp': 1401}\n)\nprint (\"The PythonSQL_CU14 container was succesfully created\")",
            "metadata": {},
            "outputs": [],
            "execution_count": 0
        },
        {
            "cell_type": "markdown",
            "source": "# 9- Check SQL Server errorlog (Python)",
            "metadata": {}
        },
        {
            "cell_type": "code",
            "source": "# Setting context to my container\ncontainer = client.containers.get('PythonSQL_CU14')\n\n# Checking the log\nfor line in container.logs(stream=True):\n    print (line.strip())\n",
            "metadata": {},
            "outputs": [
                {
                    "output_type": "stream",
                    "name": "stdout",
                    "text": "b'2019-05-05 05:44:51.00 Server      Microsoft SQL Server 2017 (RTM-CU13) (KB4466404) - 14.0.3048.4 (X64)'\nb'Nov 30 2018 12:57:58'\nb'Copyright (C) 2017 Microsoft Corporation'\nb'Developer Edition (64-bit) on Linux (Ubuntu 16.04.5 LTS)'\nb'2019-05-05 05:44:51.01 Server      UTC adjustment: 0:00'\nb'2019-05-05 05:44:51.01 Server      (c) Microsoft Corporation.'\nb'2019-05-05 05:44:51.01 Server      All rights reserved.'\nb'2019-05-05 05:44:51.01 Server      Server process ID is 4120.'\nb\"2019-05-05 05:44:51.01 Server      Logging SQL Server messages in file '/var/opt/mssql/log/errorlog'.\"\nb'2019-05-05 05:44:51.02 Server      Registry startup parameters:'\nb'-d /var/opt/mssql/data/master.mdf'\nb'-l /var/opt/mssql/data/mastlog.ldf'\nb'-e /var/opt/mssql/log/errorlog'\nb'2019-05-05 05:44:51.03 Server      SQL Server detected 2 sockets with 1 cores per socket and 1 logical processors per socket, 2 total logical processors; using 2 logical processors based on SQL Server licensing. This is an informational message; no user action is required.'\nb'2019-05-05 05:44:51.03 Server      SQL Server is starting at normal priority base (=7). This is an informational message only. No user action is required.'\nb'2019-05-05 05:44:51.04 Server      Detected 3158 MB of RAM. This is an informational message; no user action is required.'\nb'2019-05-05 05:44:51.04 Server      Using conventional memory in the memory manager.'\nb'2019-05-05 05:44:51.25 Server      Buffer pool extension is already disabled. No action is necessary.'\nb'2019-05-05 05:44:51.43 Server      InitializeExternalUserGroupSid failed. Implied authentication will be disabled.'\nb'2019-05-05 05:44:51.44 Server      Implied authentication manager initialization failed. Implied authentication will be disabled.'\nb\"2019-05-05 05:44:51.44 Server      Successfully initialized the TLS configuration. Allowed TLS protocol versions are ['1.0 1.1 1.2']. Allowed TLS ciphers are ['ECDHE-ECDSA-AES128-GCM-SHA256:ECDHE-ECDSA-AES256-GCM-SHA384:ECDHE-RSA-AES128-GCM-SHA256:ECDHE-RSA-AES256-GCM-SHA384:ECDHE-ECDSA-AES128-SHA256:ECDHE-ECDSA-AES256-SHA384:ECDHE-ECDSA-AES256-SHA:ECDHE-ECDSA-AES128-SHA:AES256-GCM-SHA384:AES128-GCM-SHA256:AES256-SHA256:AES128-SHA256:AES256-SHA:AES128-SHA:!DHE-RSA-AES256-GCM-SHA384:!DHE-RSA-AES128-GCM-SHA256:!DHE-RSA-AES256-SHA:!DHE-RSA-AES128-SHA'].\"\nb\"2019-05-05 05:44:51.49 Server      The maximum number of dedicated administrator connections for this instance is '1'\"\nb'2019-05-05 05:44:51.49 Server      Node configuration: node 0: CPU mask: 0x0000000000000003:0 Active CPU mask: 0x0000000000000003:0. This message provides a description of the NUMA configuration for this computer. This is an informational message only. No user action is required.'\nb'2019-05-05 05:44:51.51 Server      Using dynamic lock allocation.  Initial allocation of 2500 Lock blocks and 5000 Lock Owner blocks per node.  This is an informational message only.  No user action is required.'\nb'2019-05-05 05:44:51.52 Server      In-Memory OLTP initialized on lowend machine.'\nb\"2019-05-05 05:44:51.60 Server      Database Instant File Initialization: enabled. For security and performance considerations see the topic 'Database Instant File Initialization' in SQL Server Books Online. This is an informational message only. No user action is required.\"\nb'ForceFlush is enabled for this instance.'\nb'2019-05-05 05:44:51.61 Server      Query Store settings initialized with enabled = 1,'\nb\"2019-05-05 05:44:51.62 spid6s      Starting up database 'master'.\"\nb'2019-05-05 05:44:51.63 Server      Software Usage Metrics is disabled.'\nb'ForceFlush feature is enabled for log durability.'\nb'2019-05-05 05:44:52.08 spid6s      Resource governor reconfiguration succeeded.'\nb'2019-05-05 05:44:52.10 spid6s      SQL Server Audit is starting the audits. This is an informational message. No user action is required.'\nb'2019-05-05 05:44:52.12 spid6s      SQL Server Audit has started the audits. This is an informational message. No user action is required.'\nb'2019-05-05 05:44:52.25 spid6s      SQL Trace ID 1 was started by login \"sa\".'\nb\"2019-05-05 05:44:52.28 spid6s      Server name is 'python_cu13'. This is an informational message only. No user action is required.\"\nb\"2019-05-05 05:44:52.29 spid6s      Starting up database 'msdb'.\"\nb'2019-05-05 05:44:52.29 spid22s     Always On: The availability replica manager is starting. This is an informational message only. No user action is required.'\nb\"2019-05-05 05:44:52.32 spid8s      Starting up database 'mssqlsystemresource'.\"\nb'2019-05-05 05:44:52.32 spid22s     Always On: The availability replica manager is waiting for the instance of SQL Server to allow client connections. This is an informational message only. No user action is required.'\nb'2019-05-05 05:44:52.37 spid8s      The resource database build version is 14.00.3048. This is an informational message only. No user action is required.'\nb\"2019-05-05 05:44:52.41 spid8s      Starting up database 'model'.\"\nb'2019-05-05 05:44:52.67 spid18s     A self-generated certificate was successfully loaded for encryption.'\nb\"2019-05-05 05:44:52.72 spid18s     Server is listening on [ 'any' <ipv4> 1433].\"\nb'2019-05-05 05:44:52.75 Server      Server is listening on [ 127.0.0.1 <ipv4> 1434].'\nb'2019-05-05 05:44:52.76 Server      Dedicated admin connection support was established for listening locally on port 1434.'\nb'2019-05-05 05:44:52.79 spid18s     SQL Server is now ready for client connections. This is an informational message; no user action is required.'\nb'2019-05-05 05:44:52.89 spid8s      Polybase feature disabled.'\nb'2019-05-05 05:44:52.89 spid8s      Clearing tempdb database.'\nb\"2019-05-05 05:44:53.55 spid8s      Starting up database 'tempdb'.\"\nb'2019-05-05 05:44:53.87 spid8s      The tempdb database has 1 data file(s).'\nb'2019-05-05 05:44:53.93 spid22s     The Service Broker endpoint is in disabled or stopped state.'\nb'2019-05-05 05:44:53.94 spid22s     The Database Mirroring endpoint is in disabled or stopped state.'\nb'2019-05-05 05:44:53.96 spid22s     Service Broker manager has started.'\nb'2019-05-05 05:44:53.97 spid6s      Recovery is complete. This is an informational message only. No user action is required.'\n"
                }
            ],
            "execution_count": 0
        },
        {
            "cell_type": "markdown",
            "source": "# 10- Connect to CU13 and get version (Python)",
            "metadata": {}
        },
        {
            "cell_type": "code",
            "source": "-- Checking SQL Server instance information\n-- 14.0.3048.4 = CU13\n-- 14.0.3076.1 = CU14\nSELECT\n    SERVERPROPERTY('ServerName') AS [Instance Name],\n    SERVERPROPERTY('ProductVersion') AS [Product Version],\n    RIGHT(@@version, LEN(@@version)- 3 -charindex (' ON ', @@VERSION)) [OS Version],\n    SERVERPROPERTY ('Edition') AS [Edition]\nFROM sys.dm_os_sys_info;",
            "metadata": {},
            "outputs": [],
            "execution_count": 0
        },
        {
            "cell_type": "markdown",
            "source": "\n# Follow me\n- Twitter:&nbsp;&nbsp;&nbsp;&nbsp;[@dbamastery](https://twitter.com/dbamastery)  \n- GitHub:&nbsp;&nbsp;&nbsp;&nbsp;[dbamaster](https://github.com/dbamaster)  \n- Blog:&nbsp;&nbsp;&nbsp;&nbsp;&nbsp;&nbsp;&nbsp;&nbsp;http://dbamastery.com\n",
            "metadata": {}
        }
    ]
}